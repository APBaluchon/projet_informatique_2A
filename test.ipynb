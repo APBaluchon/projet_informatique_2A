{
 "cells": [
  {
   "cell_type": "code",
   "execution_count": 6,
   "metadata": {},
   "outputs": [],
   "source": [
    "import requests"
   ]
  },
  {
   "cell_type": "markdown",
   "metadata": {},
   "source": [
    "## Classe Joueur"
   ]
  },
  {
   "cell_type": "code",
   "execution_count": 7,
   "metadata": {},
   "outputs": [],
   "source": [
    "class Joueur:\n",
    "    def __init__(self, ident:str, puuid:str, name:str, level:str, icon:str):\n",
    "        self.ident = ident\n",
    "        self.puuid = puuid\n",
    "        self.name = name\n",
    "        self.level = level\n",
    "        self._icon = icon\n"
   ]
  },
  {
   "cell_type": "code",
   "execution_count": 15,
   "metadata": {},
   "outputs": [],
   "source": [
    "API_KEY = \"RGAPI-a4d6e02c-4ebd-44c5-9f67-beb9d1d23cf5\"\n",
    "SUMMONER_NAME = \"Krokhymen\"\n",
    "url_info = f\"https://euw1.api.riotgames.com/lol/summoner/v4/summoners/by-name/{SUMMONER_NAME}\"\n",
    "params = {\n",
    "    \"api_key\" : API_KEY\n",
    "}"
   ]
  },
  {
   "cell_type": "code",
   "execution_count": 16,
   "metadata": {},
   "outputs": [],
   "source": [
    "response = requests.get(url_info, params=params).json()"
   ]
  },
  {
   "cell_type": "code",
   "execution_count": 17,
   "metadata": {},
   "outputs": [
    {
     "data": {
      "text/plain": [
       "{'id': 'eA1X_U-mLlSDtI8wWkK_WuUN-pabL0P4G4BPMMXPu-WIcLU',\n",
       " 'accountId': 'vfYjOIiEUt-Ew1eNNVE6pcMrj8sQeCfGWHOrIwHLwwi7Hw',\n",
       " 'puuid': 'xwEPGHeiy-MxmkSfgZm7bic_LFIcMEu2HxM_8O3awXq6fMWhvP2YncYR-ie_rKNxmnZrosqaQYWC5Q',\n",
       " 'name': 'Krokhymen',\n",
       " 'profileIconId': 5898,\n",
       " 'revisionDate': 1694640961755,\n",
       " 'summonerLevel': 548}"
      ]
     },
     "execution_count": 17,
     "metadata": {},
     "output_type": "execute_result"
    }
   ],
   "source": [
    "response"
   ]
  },
  {
   "cell_type": "markdown",
   "metadata": {},
   "source": [
    "## Création du joueur"
   ]
  },
  {
   "cell_type": "code",
   "execution_count": 18,
   "metadata": {},
   "outputs": [],
   "source": [
    "j1 = Joueur(response[\"id\"], \n",
    "            response[\"puuid\"], \n",
    "            response[\"name\"], \n",
    "            response[\"summonerLevel\"], \n",
    "            response[\"profileIconId\"])"
   ]
  },
  {
   "cell_type": "markdown",
   "metadata": {},
   "source": [
    "## Récupération des parties du joueur"
   ]
  },
  {
   "cell_type": "code",
   "execution_count": 19,
   "metadata": {},
   "outputs": [],
   "source": [
    "url_games = f\"https://europe.api.riotgames.com/lol/match/v5/matches/by-puuid/{j1.puuid}/ids?start=0&count=20\""
   ]
  },
  {
   "cell_type": "code",
   "execution_count": 29,
   "metadata": {},
   "outputs": [],
   "source": [
    "response = requests.get(url_games, params=params).json()"
   ]
  },
  {
   "cell_type": "markdown",
   "metadata": {},
   "source": [
    "## Informations sur les games"
   ]
  },
  {
   "cell_type": "code",
   "execution_count": 69,
   "metadata": {},
   "outputs": [],
   "source": [
    "def get_player_information_from_one_game(game_id, puuid):\n",
    "    url = f\"https://europe.api.riotgames.com/lol/match/v5/matches/{game_id}\"\n",
    "    response_game = requests.get(url, params=params).json()\n",
    "    response = dict()\n",
    "    for participant in response_game[\"info\"][\"participants\"]:\n",
    "        if(participant[\"puuid\"] == puuid):\n",
    "            response = participant\n",
    "            response[\"gameDuration\"] = response_game[\"info\"][\"gameDuration\"]\n",
    "    return response"
   ]
  },
  {
   "cell_type": "code",
   "execution_count": 70,
   "metadata": {},
   "outputs": [],
   "source": [
    "def get_player_information_from_all_game(game_list, puuid):\n",
    "    pass"
   ]
  }
 ],
 "metadata": {
  "kernelspec": {
   "display_name": "Python 3",
   "language": "python",
   "name": "python3"
  },
  "language_info": {
   "codemirror_mode": {
    "name": "ipython",
    "version": 3
   },
   "file_extension": ".py",
   "mimetype": "text/x-python",
   "name": "python",
   "nbconvert_exporter": "python",
   "pygments_lexer": "ipython3",
   "version": "3.10.4"
  },
  "orig_nbformat": 4
 },
 "nbformat": 4,
 "nbformat_minor": 2
}
